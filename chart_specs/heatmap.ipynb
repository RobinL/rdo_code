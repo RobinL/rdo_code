{
 "cells": [
  {
   "cell_type": "code",
   "execution_count": null,
   "metadata": {},
   "outputs": [],
   "source": [
    "import pandas as pd\n",
    "import altair as alt"
   ]
  },
  {
   "cell_type": "code",
   "execution_count": null,
   "metadata": {},
   "outputs": [],
   "source": [
    "# Objective:  Line chart of disposal receipt, below diff, below outstanding\n",
    "url = 'https://gist.githubusercontent.com/RobinL/5a3fb37c43c017a051ea7ece1804d18b/raw/bb0816955fbd30514d993ab7c2cb379837abc41a/tidy_timeliness.csv'"
   ]
  },
  {
   "cell_type": "code",
   "execution_count": null,
   "metadata": {},
   "outputs": [],
   "source": [
    "data = alt.Data(url = url, format = alt.DataFormat(type='csv', parse={'receipts': 'number', 'disposals': 'number', 'outstanding': 'number'}))\n",
    "\n"
   ]
  },
  {
   "cell_type": "code",
   "execution_count": null,
   "metadata": {},
   "outputs": [],
   "source": [
    "nearest = alt.selection(type='single', nearest=True, on='mouseover',\n",
    "                        fields=['offence_type','crown_court_centre'], empty='none')"
   ]
  },
  {
   "cell_type": "code",
   "execution_count": null,
   "metadata": {},
   "outputs": [],
   "source": [
    "from altair import datum\n",
    "alt.Chart(data)\\\n",
    "          .properties(width = 600, \n",
    "                      height = 200,\n",
    "                      title = 'Cases outstanding'\n",
    "          ).transform_filter(\n",
    "            (datum.yearquarter == \"2017Q1\")\n",
    "          ).transform_aggregate(\n",
    "             receipts_q = 'sum(receipts):Q',\n",
    "             disposals_q = 'sum(disposals):Q',\n",
    "             outstanding_q = 'sum(outstanding):Q',\n",
    "             groupby = ['yearquarter', 'crown_court_centre', 'offence_type']\n",
    "          ).mark_rect(\n",
    "          ).encode(\n",
    "             x='crown_court_centre:N', \n",
    "             y='offence_type:N', \n",
    "             color='outstanding_q:Q'\n",
    "          ).add_selection(\n",
    "                nearest\n",
    "          )"
   ]
  },
  {
   "cell_type": "code",
   "execution_count": null,
   "metadata": {},
   "outputs": [],
   "source": [
    "pd.read_csv(url).head()"
   ]
  },
  {
   "cell_type": "code",
   "execution_count": null,
   "metadata": {},
   "outputs": [],
   "source": []
  }
 ],
 "metadata": {
  "kernelspec": {
   "display_name": "Python 3",
   "language": "python",
   "name": "python3"
  },
  "language_info": {
   "codemirror_mode": {
    "name": "ipython",
    "version": 3
   },
   "file_extension": ".py",
   "mimetype": "text/x-python",
   "name": "python",
   "nbconvert_exporter": "python",
   "pygments_lexer": "ipython3",
   "version": "3.6.4"
  }
 },
 "nbformat": 4,
 "nbformat_minor": 2
}
