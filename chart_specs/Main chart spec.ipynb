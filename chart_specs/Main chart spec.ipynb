{
 "cells": [
  {
   "cell_type": "code",
   "execution_count": null,
   "metadata": {},
   "outputs": [],
   "source": [
    "import pandas as pd\n",
    "import altair as alt"
   ]
  },
  {
   "cell_type": "code",
   "execution_count": null,
   "metadata": {},
   "outputs": [],
   "source": [
    "# df = pd.read_csv(\"tidy_timeliness.csv\")"
   ]
  },
  {
   "cell_type": "code",
   "execution_count": null,
   "metadata": {},
   "outputs": [],
   "source": [
    "# Objective:  Line chart of disposal receipt, below diff, below outstanding\n",
    "url = 'https://gist.githubusercontent.com/RobinL/5a3fb37c43c017a051ea7ece1804d18b/raw/bb0816955fbd30514d993ab7c2cb379837abc41a/tidy_timeliness.csv'"
   ]
  },
  {
   "cell_type": "code",
   "execution_count": null,
   "metadata": {},
   "outputs": [],
   "source": [
    "data = alt.Data(url = url, format = alt.DataFormat(type='csv', parse={'receipts': 'number', 'disposals': 'number', 'outstanding': 'number'}))\n",
    "data.to_dict(validate=False)\n",
    "# alt.Chart(df2).mark_bar().encode(x='yearquarter:O', y='sum(receipts):Q')"
   ]
  },
  {
   "cell_type": "code",
   "execution_count": null,
   "metadata": {},
   "outputs": [],
   "source": [
    "r_col = alt.ColorValue('#b74f4f')\n",
    "d_col = alt.ColorValue('#6b8dda')\n",
    "o_col = alt.ColorValue('green')\n",
    "\n",
    "y_axis_r_d = alt.Axis(title='Number of cases per quarter')\n",
    "y_axis_o = alt.Axis(title='Number of cases at end of quarter')\n",
    "\n",
    "r_d_scale = alt.Scale(domain=['Disposals', 'Receipts', \"Outstanding\"], range=['#6b8dda', '#b74f4f', 'green'])"
   ]
  },
  {
   "cell_type": "code",
   "execution_count": null,
   "metadata": {},
   "outputs": [],
   "source": [
    "nearest = alt.selection(type='single', nearest=True, on='mouseover',\n",
    "                        fields=['yearquarter'], empty='none')"
   ]
  },
  {
   "cell_type": "code",
   "execution_count": null,
   "metadata": {},
   "outputs": [],
   "source": [
    "# In the base chart we compute the various fields we want for the chart\n",
    "\n",
    "rgtd = 'datum.yearquarter + \": Receipts exceeded disposals by \"'\n",
    "dgtr = 'datum.yearquarter + \": Disposals exceeded receipts by \"'\n",
    "rmd = '(datum.receipts_q - datum.disposals_q)'\n",
    "dmr = '(datum.disposals_q - datum.receipts_q)'\n",
    "\n",
    "base_chart = alt.Chart(data)\\\n",
    "          .properties(width = 600, \n",
    "                      height = 200,\n",
    "                      title = 'Cases outstanding'\n",
    "          ).transform_aggregate(\n",
    "             receipts_q = 'sum(receipts):Q',\n",
    "             disposals_q = 'sum(disposals):Q',\n",
    "             outstanding_q = 'sum(outstanding):Q',\n",
    "             groupby = ['yearquarter']\n",
    "          ).transform_calculate(\n",
    "             receipts_less_disposals_q = rmd,\n",
    "             hover_text = f'{rmd} > 0 ? {rgtd} + {rmd} : {dgtr} + {dmr}',\n",
    "             legend = f'{rmd} > 0 ? \"Receipts\" : \"Disposals\"',\n",
    "             text_position = f'{rmd} > 0 ? datum.receipts_q : datum.disposals_q',\n",
    "          )\n"
   ]
  },
  {
   "cell_type": "code",
   "execution_count": null,
   "metadata": {},
   "outputs": [],
   "source": [
    "chart_o = base_chart\\\n",
    "        .mark_line(\n",
    "       ).encode(\n",
    "            x = alt.X(\"yearquarter:O\", axis=alt.Axis(title=\"\", labels=True )),\n",
    "            y = alt.Y(\"outstanding_q:Q\", axis= y_axis_o),\n",
    "            color= o_col\n",
    ")\n",
    "\n",
    "chart_o_text = base_chart\\\n",
    "        .mark_text(dx = 0, dy = -7\n",
    "       ).encode(\n",
    "            x = \"yearquarter:O\",\n",
    "            y = \"outstanding_q:Q\",\n",
    "            text= \"outstanding_q:O\",\n",
    "           opacity = alt.condition(nearest, alt.value(1), alt.value(0)),\n",
    "    color = o_col\n",
    ").add_selection(\n",
    "    nearest\n",
    ")\n",
    "\n",
    "chart_top = chart_o + chart_o_text\n",
    "chart_top"
   ]
  },
  {
   "cell_type": "code",
   "execution_count": null,
   "metadata": {},
   "outputs": [],
   "source": [
    "chart_r = base_chart\\\n",
    "        .properties(title='Receipts and disposals'\n",
    "       ).mark_line(\n",
    "       ).encode(\n",
    "            x = alt.X(\"yearquarter:O\", axis=alt.Axis(title=\"\")),\n",
    "            y = alt.Y(\"receipts_q:Q\", axis = y_axis_r_d),\n",
    "            color = r_col\n",
    "          )\n",
    "chart_d = chart_r\\\n",
    "        .mark_line(\n",
    "       ).encode(\n",
    "            y = \"disposals_q:Q\",\n",
    "            color = d_col\n",
    "          )\n",
    "\n",
    "chart_rules = base_chart.mark_rule().encode(\n",
    "    y = \"receipts_q:Q\",\n",
    "    y2 = \"disposals_q:Q\",\n",
    "    x = \"yearquarter:O\",\n",
    "    opacity= alt.condition(nearest, alt.value(1), alt.value(0))\n",
    ").add_selection(\n",
    "    nearest\n",
    ")\n",
    "\n",
    "chart_t = chart_r.mark_text(dy=-10).encode(\n",
    " text = 'hover_text:O',\n",
    "    y = 'text_position:Q',\n",
    " color = alt.Color('legend:N', scale = r_d_scale),\n",
    "     opacity= alt.condition(nearest, alt.value(1), alt.value(0))\n",
    ")\n",
    "\n",
    "chart_bottom = chart_r + chart_d + chart_t + chart_rules\n"
   ]
  },
  {
   "cell_type": "code",
   "execution_count": null,
   "metadata": {},
   "outputs": [],
   "source": [
    "chart_final = alt.vconcat(chart_top, chart_bottom)\n",
    "# chart_final.save(\"o_r_d_chart.vl.json\")\n",
    "chart_final"
   ]
  },
  {
   "cell_type": "code",
   "execution_count": null,
   "metadata": {},
   "outputs": [],
   "source": [
    "df3 = df2.pivot_table(index='yearquarter', values=['receipts', 'disposals', 'outstanding'], aggfunc='sum')\n",
    "df3['diff'] = df3['receipts'] - df3['disposals']\n",
    "df3['outstanding_lag'] = df3['outstanding'] - df3['outstanding'].shift(1)\n",
    "df3"
   ]
  },
  {
   "cell_type": "code",
   "execution_count": null,
   "metadata": {},
   "outputs": [],
   "source": []
  },
  {
   "cell_type": "code",
   "execution_count": null,
   "metadata": {},
   "outputs": [],
   "source": []
  },
  {
   "cell_type": "code",
   "execution_count": null,
   "metadata": {},
   "outputs": [],
   "source": [
    "import altair as alt\n",
    "import pandas as pd\n",
    "data = pd.DataFrame({'x': [1, 2, 3], 'y': [2, 1, 2]})\n",
    "\n",
    "chart = alt.Chart().properties(data=data)\n",
    "chart = alt.HConcatChart(data)\n",
    "from pprint import pprint\n",
    "chart.to_dict(validate=False)\n"
   ]
  },
  {
   "cell_type": "code",
   "execution_count": null,
   "metadata": {},
   "outputs": [],
   "source": [
    "import altair as alt\n",
    "from vega_datasets import data\n",
    "\n",
    "iris = data.iris()\n",
    "\n",
    "xscale = alt.Scale(domain=(4.0, 8.0))\n",
    "yscale = alt.Scale(domain=(1.9, 4.55))\n",
    "\n",
    "area_args = {'opacity': .3, 'interpolate': 'step'}\n",
    "blank_axis = alt.Axis(title='')\n",
    "\n",
    "points = alt.Chart(iris).mark_circle().encode(\n",
    "    alt.X('sepalLength', scale=xscale),\n",
    "    alt.Y('sepalWidth', scale=yscale),\n",
    "    color='species',\n",
    ")\n",
    "\n",
    "top_hist = alt.Chart(iris).mark_area(**area_args).encode(\n",
    "    alt.X('sepalLength:Q',\n",
    "          # when using bins, the axis scale is set through\n",
    "          # the bin extent, so we do not specify the scale here\n",
    "          # (which would be ignored anyway)\n",
    "          bin=alt.Bin(maxbins=20, extent=xscale.domain),\n",
    "          stack=None,\n",
    "          axis=blank_axis,\n",
    "         ),\n",
    "    alt.Y('count()', stack=None, axis=blank_axis),\n",
    "    alt.Color('species:N'),\n",
    ").properties(height=60)\n",
    "\n",
    "right_hist = alt.Chart(iris).mark_area(**area_args).encode(\n",
    "    alt.Y('sepalWidth:Q',\n",
    "          bin=alt.Bin(maxbins=20, extent=yscale.domain),\n",
    "          stack=None,\n",
    "          axis=blank_axis,\n",
    "         ),\n",
    "    alt.X('count()', stack=None, axis=blank_axis),\n",
    "    alt.Color('species:N'),\n",
    ").properties(width=60)\n",
    "\n",
    "c = top_hist & (points | right_hist)\n",
    "c.to_dict()"
   ]
  },
  {
   "cell_type": "code",
   "execution_count": null,
   "metadata": {},
   "outputs": [],
   "source": []
  }
 ],
 "metadata": {
  "kernelspec": {
   "display_name": "Python 3",
   "language": "python",
   "name": "python3"
  },
  "language_info": {
   "codemirror_mode": {
    "name": "ipython",
    "version": 3
   },
   "file_extension": ".py",
   "mimetype": "text/x-python",
   "name": "python",
   "nbconvert_exporter": "python",
   "pygments_lexer": "ipython3",
   "version": "3.6.4"
  }
 },
 "nbformat": 4,
 "nbformat_minor": 2
}
